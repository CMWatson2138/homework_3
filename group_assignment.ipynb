{
 "cells": [
  {
   "cell_type": "code",
   "execution_count": 4,
   "metadata": {},
   "outputs": [],
   "source": [
    "def calc(a,b):\n",
    "    if type(a) is int and type(b) is int:\n",
    "        s = (a + b)\n",
    "        if s ==0:\n",
    "            s=\"zero\"\n",
    "        print(\"a + b =\", s)\n",
    "        \n",
    "        d = (a - b)\n",
    "        if d == 0:\n",
    "            d = \"zero\"\n",
    "        print(\"a - b =\", d)\n",
    "        \n",
    "        p = (a * b)\n",
    "        if p == 0:\n",
    "            p = \"zero\"\n",
    "        print(\"a * b =\", p)\n",
    "        "
   ]
  },
  {
   "cell_type": "code",
   "execution_count": 5,
   "metadata": {},
   "outputs": [
    {
     "name": "stdout",
     "output_type": "stream",
     "text": [
      "a + b = 8\n",
      "a - b = -2\n",
      "a * b = 15\n"
     ]
    }
   ],
   "source": [
    "calc(3,5)"
   ]
  },
  {
   "cell_type": "code",
   "execution_count": 6,
   "metadata": {},
   "outputs": [
    {
     "name": "stdout",
     "output_type": "stream",
     "text": [
      "a + b = 6\n",
      "a - b = zero\n",
      "a * b = 9\n"
     ]
    }
   ],
   "source": [
    "calc(3,3)"
   ]
  },
  {
   "cell_type": "code",
   "execution_count": null,
   "metadata": {},
   "outputs": [],
   "source": []
  }
 ],
 "metadata": {
  "kernelspec": {
   "display_name": "Python 3",
   "language": "python",
   "name": "python3"
  },
  "language_info": {
   "codemirror_mode": {
    "name": "ipython",
    "version": 3
   },
   "file_extension": ".py",
   "mimetype": "text/x-python",
   "name": "python",
   "nbconvert_exporter": "python",
   "pygments_lexer": "ipython3",
   "version": "3.8.5"
  }
 },
 "nbformat": 4,
 "nbformat_minor": 4
}
